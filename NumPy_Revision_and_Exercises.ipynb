{
  "nbformat": 4,
  "nbformat_minor": 0,
  "metadata": {
    "colab": {
      "provenance": [],
      "authorship_tag": "ABX9TyPCMBxdY0YcTjJP7hMvJFGY",
      "include_colab_link": true
    },
    "kernelspec": {
      "name": "python3",
      "display_name": "Python 3"
    },
    "language_info": {
      "name": "python"
    }
  },
  "cells": [
    {
      "cell_type": "markdown",
      "metadata": {
        "id": "view-in-github",
        "colab_type": "text"
      },
      "source": [
        "<a href=\"https://colab.research.google.com/github/norannali/Data-Science-ML-Exercises/blob/main/NumPy_Revision_and_Exercises.ipynb\" target=\"_parent\"><img src=\"https://colab.research.google.com/assets/colab-badge.svg\" alt=\"Open In Colab\"/></a>"
      ]
    },
    {
      "cell_type": "code",
      "execution_count": 1,
      "metadata": {
        "id": "B31rhc6dK75K"
      },
      "outputs": [],
      "source": [
        "import numpy as np"
      ]
    },
    {
      "cell_type": "code",
      "source": [
        "a=np.arange(15).reshape(3,5)"
      ],
      "metadata": {
        "id": "pZGsqxa1LDax"
      },
      "execution_count": 2,
      "outputs": []
    },
    {
      "cell_type": "code",
      "source": [
        "a"
      ],
      "metadata": {
        "colab": {
          "base_uri": "https://localhost:8080/"
        },
        "id": "uYuLxlXSNpEC",
        "outputId": "da4c14ee-09e7-4c15-8740-3a56f6d33d2b"
      },
      "execution_count": 3,
      "outputs": [
        {
          "output_type": "execute_result",
          "data": {
            "text/plain": [
              "array([[ 0,  1,  2,  3,  4],\n",
              "       [ 5,  6,  7,  8,  9],\n",
              "       [10, 11, 12, 13, 14]])"
            ]
          },
          "metadata": {},
          "execution_count": 3
        }
      ]
    },
    {
      "cell_type": "code",
      "source": [
        "#The basics\n",
        "print(\"Array Shape : \",a.shape)\n",
        "print(\"the number of axes (dimensions) of the array : \",a.ndim)\n",
        "print(\"the total number of elements of the array : \",a.size)\n",
        "print(\"an object describing the type of the elements in the array : \",a.dtype)\n",
        "print(\"the size in bytes of each element of the array : \",a.itemsize)"
      ],
      "metadata": {
        "colab": {
          "base_uri": "https://localhost:8080/"
        },
        "id": "E0crCHjhNpuz",
        "outputId": "e75be03f-06e9-4e81-8336-8e9120fed0d4"
      },
      "execution_count": 4,
      "outputs": [
        {
          "output_type": "stream",
          "name": "stdout",
          "text": [
            "Array Shape :  (3, 5)\n",
            "the number of axes (dimensions) of the array :  2\n",
            "the total number of elements of the array :  15\n",
            "an object describing the type of the elements in the array :  int64\n",
            "the size in bytes of each element of the array :  8\n"
          ]
        }
      ]
    },
    {
      "cell_type": "markdown",
      "source": [
        "# **Array creation**"
      ],
      "metadata": {
        "id": "gLv-Yx1pRbFJ"
      }
    },
    {
      "cell_type": "code",
      "source": [
        "b=np.array([6,7,8])\n",
        "b"
      ],
      "metadata": {
        "colab": {
          "base_uri": "https://localhost:8080/"
        },
        "id": "7mEgUaC6N-7U",
        "outputId": "76987950-6ebf-4bc0-b2c5-6236b43f813e"
      },
      "execution_count": 5,
      "outputs": [
        {
          "output_type": "execute_result",
          "data": {
            "text/plain": [
              "array([6, 7, 8])"
            ]
          },
          "metadata": {},
          "execution_count": 5
        }
      ]
    },
    {
      "cell_type": "code",
      "source": [
        "c=np.array([(1.5,2,3),(4,5,6)])\n",
        "c"
      ],
      "metadata": {
        "colab": {
          "base_uri": "https://localhost:8080/"
        },
        "id": "z5y5rFhxRiDa",
        "outputId": "d8608864-ddcc-47c3-8eb6-237c39792874"
      },
      "execution_count": 6,
      "outputs": [
        {
          "output_type": "execute_result",
          "data": {
            "text/plain": [
              "array([[1.5, 2. , 3. ],\n",
              "       [4. , 5. , 6. ]])"
            ]
          },
          "metadata": {},
          "execution_count": 6
        }
      ]
    },
    {
      "cell_type": "code",
      "source": [
        "arr1=np.zeros((3,4))\n",
        "arr2=np.ones((1,3,4),dtype=np.int16)\n",
        "arr3=np.empty((2,3))\n",
        "print(arr1)\n",
        "print(\"=\"*50)\n",
        "print(arr2)\n",
        "print(\"=\"*50)\n",
        "print(arr3)"
      ],
      "metadata": {
        "colab": {
          "base_uri": "https://localhost:8080/"
        },
        "id": "KgDhWQ1IRskF",
        "outputId": "0c0b4aa4-2631-4bab-90fb-f07ecd6da038"
      },
      "execution_count": 7,
      "outputs": [
        {
          "output_type": "stream",
          "name": "stdout",
          "text": [
            "[[0. 0. 0. 0.]\n",
            " [0. 0. 0. 0.]\n",
            " [0. 0. 0. 0.]]\n",
            "==================================================\n",
            "[[[1 1 1 1]\n",
            "  [1 1 1 1]\n",
            "  [1 1 1 1]]]\n",
            "==================================================\n",
            "[[1.5 2.  3. ]\n",
            " [4.  5.  6. ]]\n"
          ]
        }
      ]
    },
    {
      "cell_type": "code",
      "source": [
        "arr4=np.arange(10,30,5)\n",
        "arr5=np.linspace(0,2,9)  #9 numbers from 0 to 2 # contain the start point +the end point + the number of elements\n",
        "print(arr4)\n",
        "print(\"=\"*50)\n",
        "print(arr5)"
      ],
      "metadata": {
        "colab": {
          "base_uri": "https://localhost:8080/"
        },
        "id": "SbU87Z0JTCqZ",
        "outputId": "abd89914-ecda-4be8-c253-2e959bde8558"
      },
      "execution_count": 8,
      "outputs": [
        {
          "output_type": "stream",
          "name": "stdout",
          "text": [
            "[10 15 20 25]\n",
            "==================================================\n",
            "[0.   0.25 0.5  0.75 1.   1.25 1.5  1.75 2.  ]\n"
          ]
        }
      ]
    },
    {
      "cell_type": "code",
      "source": [
        "np.random.random((2,3))"
      ],
      "metadata": {
        "colab": {
          "base_uri": "https://localhost:8080/"
        },
        "id": "L8jtPTFrF0t6",
        "outputId": "ff7b3569-3f2d-49ec-fd19-f10e8f642b0b"
      },
      "execution_count": 9,
      "outputs": [
        {
          "output_type": "execute_result",
          "data": {
            "text/plain": [
              "array([[0.32499994, 0.55631361, 0.7899968 ],\n",
              "       [0.77464554, 0.73617417, 0.3978321 ]])"
            ]
          },
          "metadata": {},
          "execution_count": 9
        }
      ]
    },
    {
      "cell_type": "code",
      "source": [
        "np.random.rand(2,3)   #number between 0 and 1"
      ],
      "metadata": {
        "colab": {
          "base_uri": "https://localhost:8080/"
        },
        "id": "zumfNXC8F_2Q",
        "outputId": "6cae0338-0759-4dd9-8870-114d69873576"
      },
      "execution_count": 10,
      "outputs": [
        {
          "output_type": "execute_result",
          "data": {
            "text/plain": [
              "array([[0.39210851, 0.31418619, 0.77586682],\n",
              "       [0.13175364, 0.27697734, 0.23684006]])"
            ]
          },
          "metadata": {},
          "execution_count": 10
        }
      ]
    },
    {
      "cell_type": "code",
      "source": [
        "np.random.randn(2,3) #number from normal distribution"
      ],
      "metadata": {
        "colab": {
          "base_uri": "https://localhost:8080/"
        },
        "id": "sPrK2tI9HECe",
        "outputId": "32a2c434-2936-4cde-dbb8-e1b71302335b"
      },
      "execution_count": 11,
      "outputs": [
        {
          "output_type": "execute_result",
          "data": {
            "text/plain": [
              "array([[-0.48334785,  0.89903406,  0.65586773],\n",
              "       [-1.86994443,  1.58495995, -0.91121694]])"
            ]
          },
          "metadata": {},
          "execution_count": 11
        }
      ]
    },
    {
      "cell_type": "code",
      "source": [
        "np.random.randint(2,10)"
      ],
      "metadata": {
        "colab": {
          "base_uri": "https://localhost:8080/"
        },
        "id": "9LHMfrMjHLvn",
        "outputId": "72f21ba3-823d-4a92-e0ea-d1278c2231e6"
      },
      "execution_count": 12,
      "outputs": [
        {
          "output_type": "execute_result",
          "data": {
            "text/plain": [
              "3"
            ]
          },
          "metadata": {},
          "execution_count": 12
        }
      ]
    },
    {
      "cell_type": "code",
      "source": [
        "np.random.randint(2,10,size=8)"
      ],
      "metadata": {
        "colab": {
          "base_uri": "https://localhost:8080/"
        },
        "id": "gd_73wxtHPAq",
        "outputId": "96437747-fceb-45dc-be69-dff6cc44a289"
      },
      "execution_count": 13,
      "outputs": [
        {
          "output_type": "execute_result",
          "data": {
            "text/plain": [
              "array([7, 8, 3, 6, 4, 7, 7, 6])"
            ]
          },
          "metadata": {},
          "execution_count": 13
        }
      ]
    },
    {
      "cell_type": "code",
      "source": [
        "np.random.randint(2,10,size=(2,4))"
      ],
      "metadata": {
        "colab": {
          "base_uri": "https://localhost:8080/"
        },
        "id": "YoO_uDqlHRr3",
        "outputId": "f742d764-7ba0-4515-fabb-f2bf55092f08"
      },
      "execution_count": 14,
      "outputs": [
        {
          "output_type": "execute_result",
          "data": {
            "text/plain": [
              "array([[4, 8, 4, 5],\n",
              "       [5, 4, 9, 5]])"
            ]
          },
          "metadata": {},
          "execution_count": 14
        }
      ]
    },
    {
      "cell_type": "code",
      "source": [
        "np.full((2,2),7)"
      ],
      "metadata": {
        "colab": {
          "base_uri": "https://localhost:8080/"
        },
        "id": "KhMp1lspHbtW",
        "outputId": "46cbac27-cf69-45f4-e09c-a49a0db6ab11"
      },
      "execution_count": 15,
      "outputs": [
        {
          "output_type": "execute_result",
          "data": {
            "text/plain": [
              "array([[7, 7],\n",
              "       [7, 7]])"
            ]
          },
          "metadata": {},
          "execution_count": 15
        }
      ]
    },
    {
      "cell_type": "code",
      "source": [
        "np.full((2,2),[1,2])"
      ],
      "metadata": {
        "colab": {
          "base_uri": "https://localhost:8080/"
        },
        "id": "fdcmQMYcHjrd",
        "outputId": "86c42458-2b42-4c1b-d762-984977c00285"
      },
      "execution_count": 16,
      "outputs": [
        {
          "output_type": "execute_result",
          "data": {
            "text/plain": [
              "array([[1, 2],\n",
              "       [1, 2]])"
            ]
          },
          "metadata": {},
          "execution_count": 16
        }
      ]
    },
    {
      "cell_type": "code",
      "source": [
        "np.eye(3) #identity matrix"
      ],
      "metadata": {
        "colab": {
          "base_uri": "https://localhost:8080/"
        },
        "id": "RrlcLeKOHr01",
        "outputId": "377d5fbf-3d40-448d-9fbd-623615f88e8f"
      },
      "execution_count": 17,
      "outputs": [
        {
          "output_type": "execute_result",
          "data": {
            "text/plain": [
              "array([[1., 0., 0.],\n",
              "       [0., 1., 0.],\n",
              "       [0., 0., 1.]])"
            ]
          },
          "metadata": {},
          "execution_count": 17
        }
      ]
    },
    {
      "cell_type": "code",
      "source": [
        "np.empty((2,3),dtype=int)"
      ],
      "metadata": {
        "colab": {
          "base_uri": "https://localhost:8080/"
        },
        "id": "g4bTjUY5IJqf",
        "outputId": "835f20a7-7aea-45e2-a705-912220bbb039"
      },
      "execution_count": 18,
      "outputs": [
        {
          "output_type": "execute_result",
          "data": {
            "text/plain": [
              "array([[4602378840627170906, 4606272998471563699, 4604082750868861345],\n",
              "       [4611100300225787782, 4609816844198926673, 4606382732100145152]])"
            ]
          },
          "metadata": {},
          "execution_count": 18
        }
      ]
    },
    {
      "cell_type": "markdown",
      "source": [
        "# **Operations in array**"
      ],
      "metadata": {
        "id": "U4iJprf-IhH3"
      }
    },
    {
      "cell_type": "code",
      "source": [
        "a=np.arange(0,12)\n",
        "print(a)"
      ],
      "metadata": {
        "colab": {
          "base_uri": "https://localhost:8080/"
        },
        "id": "OYtu3kazItSi",
        "outputId": "424853a8-9e20-4098-9fdd-9e2674b05d51"
      },
      "execution_count": 19,
      "outputs": [
        {
          "output_type": "stream",
          "name": "stdout",
          "text": [
            "[ 0  1  2  3  4  5  6  7  8  9 10 11]\n"
          ]
        }
      ]
    },
    {
      "cell_type": "code",
      "source": [
        "b=a.reshape((3,4))\n",
        "print(b)"
      ],
      "metadata": {
        "colab": {
          "base_uri": "https://localhost:8080/"
        },
        "id": "5PIcDeUkI0Yg",
        "outputId": "83b1a240-4b05-4732-b4b2-f53648d71dfa"
      },
      "execution_count": 20,
      "outputs": [
        {
          "output_type": "stream",
          "name": "stdout",
          "text": [
            "[[ 0  1  2  3]\n",
            " [ 4  5  6  7]\n",
            " [ 8  9 10 11]]\n"
          ]
        }
      ]
    },
    {
      "cell_type": "code",
      "source": [
        "a=b.ravel() #convert into 1d array\n",
        "print(a)"
      ],
      "metadata": {
        "colab": {
          "base_uri": "https://localhost:8080/"
        },
        "id": "SxZ_vOu6JSSL",
        "outputId": "ff6a1718-be7a-43cf-9efd-6226425d5a85"
      },
      "execution_count": 21,
      "outputs": [
        {
          "output_type": "stream",
          "name": "stdout",
          "text": [
            "[ 0  1  2  3  4  5  6  7  8  9 10 11]\n"
          ]
        }
      ]
    },
    {
      "cell_type": "code",
      "source": [
        "c=b.transpose()\n",
        "print(c)"
      ],
      "metadata": {
        "colab": {
          "base_uri": "https://localhost:8080/"
        },
        "id": "k8O0zvUUKa6K",
        "outputId": "599e0380-e3f1-4ffb-ca8e-fd8a4bd3a6ca"
      },
      "execution_count": 22,
      "outputs": [
        {
          "output_type": "stream",
          "name": "stdout",
          "text": [
            "[[ 0  4  8]\n",
            " [ 1  5  9]\n",
            " [ 2  6 10]\n",
            " [ 3  7 11]]\n"
          ]
        }
      ]
    },
    {
      "cell_type": "code",
      "source": [
        "b.T"
      ],
      "metadata": {
        "colab": {
          "base_uri": "https://localhost:8080/"
        },
        "id": "qZmsImvrKe0g",
        "outputId": "9af67c81-775b-471a-da20-922fb013bc54"
      },
      "execution_count": 23,
      "outputs": [
        {
          "output_type": "execute_result",
          "data": {
            "text/plain": [
              "array([[ 0,  4,  8],\n",
              "       [ 1,  5,  9],\n",
              "       [ 2,  6, 10],\n",
              "       [ 3,  7, 11]])"
            ]
          },
          "metadata": {},
          "execution_count": 23
        }
      ]
    },
    {
      "cell_type": "code",
      "source": [
        "a=np.array([[1,1],\n",
        "           [0,1]])\n",
        "b=np.array([[2, 0],\n",
        "            [3, 4]])\n",
        "#Operations\n",
        "print(a+b)\n",
        "print(\"=\"*50)\n",
        "print(a-b)\n",
        "print(\"=\"*50)\n",
        "print(a*b)\n",
        "print(\"=\"*50)\n",
        "print(f\"Matrix Product by  arr1@arr2  :\")\n",
        "print(a@b)\n",
        "print(\"=\"*50)\n",
        "print(f\"Matrix Product by  arr1.dot(arr2)  :\")\n",
        "print(a.dot(b))"
      ],
      "metadata": {
        "colab": {
          "base_uri": "https://localhost:8080/"
        },
        "id": "Uipw4mWrThks",
        "outputId": "116bb1dd-b764-47ae-e4bf-19eb65197d12"
      },
      "execution_count": 24,
      "outputs": [
        {
          "output_type": "stream",
          "name": "stdout",
          "text": [
            "[[3 1]\n",
            " [3 5]]\n",
            "==================================================\n",
            "[[-1  1]\n",
            " [-3 -3]]\n",
            "==================================================\n",
            "[[2 0]\n",
            " [0 4]]\n",
            "==================================================\n",
            "Matrix Product by  arr1@arr2  :\n",
            "[[5 4]\n",
            " [3 4]]\n",
            "==================================================\n",
            "Matrix Product by  arr1.dot(arr2)  :\n",
            "[[5 4]\n",
            " [3 4]]\n"
          ]
        }
      ]
    },
    {
      "cell_type": "code",
      "source": [
        "#Increment & Decrement\n",
        "arr=np.arange(1,5)\n",
        "print(arr)"
      ],
      "metadata": {
        "colab": {
          "base_uri": "https://localhost:8080/"
        },
        "id": "EWy2odk7Ldzw",
        "outputId": "495e3bbc-0390-484d-8548-696fb2e66f87"
      },
      "execution_count": 25,
      "outputs": [
        {
          "output_type": "stream",
          "name": "stdout",
          "text": [
            "[1 2 3 4]\n"
          ]
        }
      ]
    },
    {
      "cell_type": "code",
      "source": [
        "arr+=2\n",
        "print(arr)"
      ],
      "metadata": {
        "colab": {
          "base_uri": "https://localhost:8080/"
        },
        "id": "Q2iqUAJfLkRn",
        "outputId": "02fb8478-1fdd-49f7-c02b-d5693e9883ec"
      },
      "execution_count": 26,
      "outputs": [
        {
          "output_type": "stream",
          "name": "stdout",
          "text": [
            "[3 4 5 6]\n"
          ]
        }
      ]
    },
    {
      "cell_type": "code",
      "source": [
        "arr-=1\n",
        "print(arr)"
      ],
      "metadata": {
        "colab": {
          "base_uri": "https://localhost:8080/"
        },
        "id": "p7Q9FJGsLwW0",
        "outputId": "ff74ff91-6caf-47ac-f809-81ebabd65d97"
      },
      "execution_count": 27,
      "outputs": [
        {
          "output_type": "stream",
          "name": "stdout",
          "text": [
            "[2 3 4 5]\n"
          ]
        }
      ]
    },
    {
      "cell_type": "markdown",
      "source": [
        "**Universal Functions**"
      ],
      "metadata": {
        "id": "soIxgSFxL-qe"
      }
    },
    {
      "cell_type": "code",
      "source": [
        "a=np.arange(1,5)\n",
        "print(a)"
      ],
      "metadata": {
        "colab": {
          "base_uri": "https://localhost:8080/"
        },
        "id": "eEg49ZY8MGjy",
        "outputId": "729a1411-89c1-4608-de61-4621204be38a"
      },
      "execution_count": 28,
      "outputs": [
        {
          "output_type": "stream",
          "name": "stdout",
          "text": [
            "[1 2 3 4]\n"
          ]
        }
      ]
    },
    {
      "cell_type": "code",
      "source": [
        "np.sqrt(a)"
      ],
      "metadata": {
        "colab": {
          "base_uri": "https://localhost:8080/"
        },
        "id": "2WQoTcVZN1k7",
        "outputId": "8004997f-4ba1-4246-b8fa-c432c6a4572e"
      },
      "execution_count": 29,
      "outputs": [
        {
          "output_type": "execute_result",
          "data": {
            "text/plain": [
              "array([1.        , 1.41421356, 1.73205081, 2.        ])"
            ]
          },
          "metadata": {},
          "execution_count": 29
        }
      ]
    },
    {
      "cell_type": "code",
      "source": [
        "np.log(a)"
      ],
      "metadata": {
        "colab": {
          "base_uri": "https://localhost:8080/"
        },
        "id": "-YcR_RXbPDgu",
        "outputId": "c4833b29-31d7-4e89-d3f0-8aea2ab48a0f"
      },
      "execution_count": 30,
      "outputs": [
        {
          "output_type": "execute_result",
          "data": {
            "text/plain": [
              "array([0.        , 0.69314718, 1.09861229, 1.38629436])"
            ]
          },
          "metadata": {},
          "execution_count": 30
        }
      ]
    },
    {
      "cell_type": "code",
      "source": [
        "np.exp(a)"
      ],
      "metadata": {
        "colab": {
          "base_uri": "https://localhost:8080/"
        },
        "id": "IHqMa3nLPF4u",
        "outputId": "4d0ac2c6-26b8-43ac-9c7c-dc9133c4273f"
      },
      "execution_count": 31,
      "outputs": [
        {
          "output_type": "execute_result",
          "data": {
            "text/plain": [
              "array([ 2.71828183,  7.3890561 , 20.08553692, 54.59815003])"
            ]
          },
          "metadata": {},
          "execution_count": 31
        }
      ]
    },
    {
      "cell_type": "code",
      "source": [
        "np.sin(a)"
      ],
      "metadata": {
        "colab": {
          "base_uri": "https://localhost:8080/"
        },
        "id": "7vhBy_hKPJgo",
        "outputId": "4a07d227-ca22-48fb-fbef-8cb03152dc26"
      },
      "execution_count": 32,
      "outputs": [
        {
          "output_type": "execute_result",
          "data": {
            "text/plain": [
              "array([ 0.84147098,  0.90929743,  0.14112001, -0.7568025 ])"
            ]
          },
          "metadata": {},
          "execution_count": 32
        }
      ]
    },
    {
      "cell_type": "markdown",
      "source": [
        "**Aggregate Function**"
      ],
      "metadata": {
        "id": "fw7HGHUWPX2W"
      }
    },
    {
      "cell_type": "code",
      "source": [
        "aa=np.array([1,2,5,5.6,6.2,4.9,7.3,7.9])\n",
        "aa"
      ],
      "metadata": {
        "colab": {
          "base_uri": "https://localhost:8080/"
        },
        "id": "uGPrx6GOPi84",
        "outputId": "16738cd5-bebd-48c4-e2e3-9d2eac668ab3"
      },
      "execution_count": 33,
      "outputs": [
        {
          "output_type": "execute_result",
          "data": {
            "text/plain": [
              "array([1. , 2. , 5. , 5.6, 6.2, 4.9, 7.3, 7.9])"
            ]
          },
          "metadata": {},
          "execution_count": 33
        }
      ]
    },
    {
      "cell_type": "code",
      "source": [
        "np.max(aa)"
      ],
      "metadata": {
        "colab": {
          "base_uri": "https://localhost:8080/"
        },
        "id": "9pooh3s8Px_i",
        "outputId": "86d9e024-89bf-495a-d7bd-3cb9261c8dcc"
      },
      "execution_count": 34,
      "outputs": [
        {
          "output_type": "execute_result",
          "data": {
            "text/plain": [
              "7.9"
            ]
          },
          "metadata": {},
          "execution_count": 34
        }
      ]
    },
    {
      "cell_type": "code",
      "source": [
        "np.argmax(aa) #index of the max num"
      ],
      "metadata": {
        "colab": {
          "base_uri": "https://localhost:8080/"
        },
        "id": "ydqxZpzAP5cK",
        "outputId": "de118983-4ce9-4110-f271-2b3c29161709"
      },
      "execution_count": 35,
      "outputs": [
        {
          "output_type": "execute_result",
          "data": {
            "text/plain": [
              "7"
            ]
          },
          "metadata": {},
          "execution_count": 35
        }
      ]
    },
    {
      "cell_type": "code",
      "source": [
        "np.mean(aa)"
      ],
      "metadata": {
        "colab": {
          "base_uri": "https://localhost:8080/"
        },
        "id": "ReSQuXtkQA4e",
        "outputId": "96130f33-3bef-479d-b1cd-d1c428f7b41e"
      },
      "execution_count": 36,
      "outputs": [
        {
          "output_type": "execute_result",
          "data": {
            "text/plain": [
              "4.9875"
            ]
          },
          "metadata": {},
          "execution_count": 36
        }
      ]
    },
    {
      "cell_type": "code",
      "source": [
        "aa.std()"
      ],
      "metadata": {
        "colab": {
          "base_uri": "https://localhost:8080/"
        },
        "id": "L49iVI23QEmC",
        "outputId": "9600ffcd-36a1-4b03-bffe-757969a97439"
      },
      "execution_count": 37,
      "outputs": [
        {
          "output_type": "execute_result",
          "data": {
            "text/plain": [
              "2.250243042428973"
            ]
          },
          "metadata": {},
          "execution_count": 37
        }
      ]
    },
    {
      "cell_type": "code",
      "source": [
        "z = np.array([\n",
        "    [2, 1, 0],\n",
        "    [5, 6, 7],\n",
        "    [3, 8, 9]\n",
        "])"
      ],
      "metadata": {
        "id": "0hDclkFsR0XS"
      },
      "execution_count": 38,
      "outputs": []
    },
    {
      "cell_type": "code",
      "source": [
        "z[[0,1],[0,2]]"
      ],
      "metadata": {
        "colab": {
          "base_uri": "https://localhost:8080/"
        },
        "id": "6WIyq1J-R1rd",
        "outputId": "790bff66-2662-47ea-e667-1dda30580084"
      },
      "execution_count": 39,
      "outputs": [
        {
          "output_type": "execute_result",
          "data": {
            "text/plain": [
              "array([2, 7])"
            ]
          },
          "metadata": {},
          "execution_count": 39
        }
      ]
    },
    {
      "cell_type": "code",
      "source": [
        "z[::1]"
      ],
      "metadata": {
        "colab": {
          "base_uri": "https://localhost:8080/"
        },
        "id": "2HIlYcvvSPgl",
        "outputId": "6281004b-a028-41f5-8e56-48bd1c7817e3"
      },
      "execution_count": 40,
      "outputs": [
        {
          "output_type": "execute_result",
          "data": {
            "text/plain": [
              "array([[2, 1, 0],\n",
              "       [5, 6, 7],\n",
              "       [3, 8, 9]])"
            ]
          },
          "metadata": {},
          "execution_count": 40
        }
      ]
    },
    {
      "cell_type": "code",
      "source": [
        "z[0:3,0:3]"
      ],
      "metadata": {
        "colab": {
          "base_uri": "https://localhost:8080/"
        },
        "id": "WE96GzAfSWX6",
        "outputId": "ff158ed2-461e-4e9a-dd3b-d362b8547aa6"
      },
      "execution_count": 41,
      "outputs": [
        {
          "output_type": "execute_result",
          "data": {
            "text/plain": [
              "array([[2, 1, 0],\n",
              "       [5, 6, 7],\n",
              "       [3, 8, 9]])"
            ]
          },
          "metadata": {},
          "execution_count": 41
        }
      ]
    },
    {
      "cell_type": "code",
      "source": [
        "z[:]"
      ],
      "metadata": {
        "colab": {
          "base_uri": "https://localhost:8080/"
        },
        "id": "hChp8S5oSdTM",
        "outputId": "40a151a8-245a-44b9-fdf7-2c65e9c02b39"
      },
      "execution_count": 42,
      "outputs": [
        {
          "output_type": "execute_result",
          "data": {
            "text/plain": [
              "array([[2, 1, 0],\n",
              "       [5, 6, 7],\n",
              "       [3, 8, 9]])"
            ]
          },
          "metadata": {},
          "execution_count": 42
        }
      ]
    },
    {
      "cell_type": "markdown",
      "source": [
        "# **Indexing**\n",
        "Access Array Elements Array indexing is the same as accessing an array element.\n",
        "\n",
        "You can access an array element by referring to its index number."
      ],
      "metadata": {
        "id": "jjH9UGBGZYWl"
      }
    },
    {
      "cell_type": "code",
      "source": [
        "arr = np.array([1, 2, 3, 4])\n",
        "print(arr[0])"
      ],
      "metadata": {
        "colab": {
          "base_uri": "https://localhost:8080/"
        },
        "id": "0wy2y5DmVy7N",
        "outputId": "1e40414b-29e1-4286-a6eb-2905d9feb48a"
      },
      "execution_count": 43,
      "outputs": [
        {
          "output_type": "stream",
          "name": "stdout",
          "text": [
            "1\n"
          ]
        }
      ]
    },
    {
      "cell_type": "code",
      "source": [
        "print(arr[2] + arr[3])"
      ],
      "metadata": {
        "colab": {
          "base_uri": "https://localhost:8080/"
        },
        "id": "jFiF73LRZiHy",
        "outputId": "d7143d98-86dd-4d31-bb0a-8259a6d626a7"
      },
      "execution_count": 44,
      "outputs": [
        {
          "output_type": "stream",
          "name": "stdout",
          "text": [
            "7\n"
          ]
        }
      ]
    },
    {
      "cell_type": "code",
      "source": [
        "# Access 2-D Arrays\n",
        "arr = np.array([[1,2,3,4,5], [6,7,8,9,10]])\n",
        "print('2nd element on 1st row: ', arr[0, 1])\n",
        "print('5th element on 2nd row: ', arr[1, 4])\n"
      ],
      "metadata": {
        "colab": {
          "base_uri": "https://localhost:8080/"
        },
        "id": "OSQ8jbhPZkhM",
        "outputId": "e9beef01-bad0-48be-a85d-8b700b904125"
      },
      "execution_count": 45,
      "outputs": [
        {
          "output_type": "stream",
          "name": "stdout",
          "text": [
            "2nd element on 1st row:  2\n",
            "5th element on 2nd row:  10\n"
          ]
        }
      ]
    },
    {
      "cell_type": "code",
      "source": [
        "# Access 3-D Arrays\n",
        "arr = np.array([[[1, 2, 3], [4, 5, 6]],\n",
        "               [[7, 8, 9], [10, 11, 12]]])\n",
        "print(arr)\n",
        "print(arr[0, 1, 1])\n"
      ],
      "metadata": {
        "colab": {
          "base_uri": "https://localhost:8080/"
        },
        "id": "z9mwIUfMZsaH",
        "outputId": "2871ecab-b131-4356-cb23-5f181da68032"
      },
      "execution_count": 46,
      "outputs": [
        {
          "output_type": "stream",
          "name": "stdout",
          "text": [
            "[[[ 1  2  3]\n",
            "  [ 4  5  6]]\n",
            "\n",
            " [[ 7  8  9]\n",
            "  [10 11 12]]]\n",
            "5\n"
          ]
        }
      ]
    },
    {
      "cell_type": "markdown",
      "source": [
        "# **NumPy Array Slicing**\n",
        "We pass slice instead of index like this: [start:end].\n",
        "\n",
        "We can also define the step, like this: [start:end:step]."
      ],
      "metadata": {
        "id": "Rjk6FKKvbOz5"
      }
    },
    {
      "cell_type": "code",
      "source": [
        "arr = np.array([1, 2, 3, 4, 5, 6, 7])\n",
        "\n",
        "print(arr[1:5])\n",
        "print(arr[4:])\n",
        "print(arr[:4])\n",
        "print(arr[-3:-1])\n",
        "print(arr[1:5:2])\n",
        "print(arr[::2])"
      ],
      "metadata": {
        "colab": {
          "base_uri": "https://localhost:8080/"
        },
        "id": "pSIhfyA3Z665",
        "outputId": "86dd8c5f-3d0c-42a1-c516-20547b3ed17c"
      },
      "execution_count": 47,
      "outputs": [
        {
          "output_type": "stream",
          "name": "stdout",
          "text": [
            "[2 3 4 5]\n",
            "[5 6 7]\n",
            "[1 2 3 4]\n",
            "[5 6]\n",
            "[2 4]\n",
            "[1 3 5 7]\n"
          ]
        }
      ]
    },
    {
      "cell_type": "code",
      "source": [
        "#From both elements, slice index 1 to index 4 (not included), this will return a 2-D array:\n",
        "arr = np.array([[1, 2, 3, 4, 5],\n",
        "                [6, 7, 8, 9, 10]])\n",
        "\n",
        "print(arr[0:2, 1:4]) # 0 : 2 > arrays\n",
        "print('-'*50)\n",
        "print(arr[0:1, 1:5])\n",
        "print(\"=\"*50)\n",
        "arr2=np.array([[1,2,3,4,5],\n",
        "              [10,20,30,40,50],\n",
        "              [100,200,300,400,500]])\n",
        "print(arr2[0:2, 1:4])\n",
        "print('-'*50)\n",
        "print(arr2[1:3,2:5])"
      ],
      "metadata": {
        "colab": {
          "base_uri": "https://localhost:8080/"
        },
        "id": "ZUSZ8i76bwSh",
        "outputId": "1f981b82-28fb-4ab8-b3ab-63c607bf833f"
      },
      "execution_count": 48,
      "outputs": [
        {
          "output_type": "stream",
          "name": "stdout",
          "text": [
            "[[2 3 4]\n",
            " [7 8 9]]\n",
            "--------------------------------------------------\n",
            "[[2 3 4 5]]\n",
            "==================================================\n",
            "[[ 2  3  4]\n",
            " [20 30 40]]\n",
            "--------------------------------------------------\n",
            "[[ 30  40  50]\n",
            " [300 400 500]]\n"
          ]
        }
      ]
    },
    {
      "cell_type": "code",
      "source": [
        "## Joining Array\n",
        "arr1 = np.array([1, 2, 3])\n",
        "\n",
        "arr2 = np.array([4, 5, 6])\n",
        "\n",
        "arr = np.concatenate((arr1, arr2))\n",
        "\n",
        "print(arr)"
      ],
      "metadata": {
        "colab": {
          "base_uri": "https://localhost:8080/"
        },
        "id": "U8WbsPYDcQzd",
        "outputId": "a24e5c68-bac6-44e2-8e72-5e2aa6b1b08f"
      },
      "execution_count": 49,
      "outputs": [
        {
          "output_type": "stream",
          "name": "stdout",
          "text": [
            "[1 2 3 4 5 6]\n"
          ]
        }
      ]
    },
    {
      "cell_type": "markdown",
      "source": [
        "# **Join & Split Arrays**"
      ],
      "metadata": {
        "id": "tb_NVEhME6Yb"
      }
    },
    {
      "cell_type": "code",
      "source": [
        "#Join\n",
        "a=np.array([1,2,3])\n",
        "b=np.array([4,5,6])\n",
        "c=np.array([7,8,9])"
      ],
      "metadata": {
        "id": "2MFxeYV2E6Bd"
      },
      "execution_count": 61,
      "outputs": []
    },
    {
      "cell_type": "code",
      "source": [
        "np.column_stack((a,b,c))"
      ],
      "metadata": {
        "colab": {
          "base_uri": "https://localhost:8080/"
        },
        "id": "C241b4Q0FaGT",
        "outputId": "96f5ab64-e8ac-4e9e-ae53-9fe7b6b85baf"
      },
      "execution_count": 60,
      "outputs": [
        {
          "output_type": "execute_result",
          "data": {
            "text/plain": [
              "array([[1, 4, 7],\n",
              "       [2, 5, 8],\n",
              "       [3, 6, 9]])"
            ]
          },
          "metadata": {},
          "execution_count": 60
        }
      ]
    },
    {
      "cell_type": "code",
      "source": [
        "np.row_stack((a,b,c))"
      ],
      "metadata": {
        "colab": {
          "base_uri": "https://localhost:8080/"
        },
        "id": "rFdpjSF1FdEV",
        "outputId": "27cd44c3-74ed-4601-b2f6-3dcac4238056"
      },
      "execution_count": 62,
      "outputs": [
        {
          "output_type": "execute_result",
          "data": {
            "text/plain": [
              "array([[1, 2, 3],\n",
              "       [4, 5, 6],\n",
              "       [7, 8, 9]])"
            ]
          },
          "metadata": {},
          "execution_count": 62
        }
      ]
    },
    {
      "cell_type": "code",
      "source": [
        "#Split\n",
        "a=np.arange(16).reshape(4,4)\n",
        "print(a)"
      ],
      "metadata": {
        "colab": {
          "base_uri": "https://localhost:8080/"
        },
        "id": "5_aXbUdoFk9P",
        "outputId": "f3caa89e-ff7e-4959-813a-958f88bea76d"
      },
      "execution_count": 63,
      "outputs": [
        {
          "output_type": "stream",
          "name": "stdout",
          "text": [
            "[[ 0  1  2  3]\n",
            " [ 4  5  6  7]\n",
            " [ 8  9 10 11]\n",
            " [12 13 14 15]]\n"
          ]
        }
      ]
    },
    {
      "cell_type": "code",
      "source": [
        "[b,c]=np.hsplit(a,2)\n",
        "print(b)\n",
        "print('-'*20)\n",
        "print(c)"
      ],
      "metadata": {
        "colab": {
          "base_uri": "https://localhost:8080/"
        },
        "id": "1prjL84IFtdy",
        "outputId": "5c6404b1-a643-4141-9c16-7ec228d63cac"
      },
      "execution_count": 64,
      "outputs": [
        {
          "output_type": "stream",
          "name": "stdout",
          "text": [
            "[[ 0  1]\n",
            " [ 4  5]\n",
            " [ 8  9]\n",
            " [12 13]]\n",
            "--------------------\n",
            "[[ 2  3]\n",
            " [ 6  7]\n",
            " [10 11]\n",
            " [14 15]]\n"
          ]
        }
      ]
    },
    {
      "cell_type": "code",
      "source": [
        "[b,c]=np.vsplit(a,2)\n",
        "print(b)\n",
        "print('-'*20)\n",
        "print(c)"
      ],
      "metadata": {
        "colab": {
          "base_uri": "https://localhost:8080/"
        },
        "id": "KPxl2DuSGDJl",
        "outputId": "a0f43705-f11a-4559-8dc0-ef33fa643d54"
      },
      "execution_count": 65,
      "outputs": [
        {
          "output_type": "stream",
          "name": "stdout",
          "text": [
            "[[0 1 2 3]\n",
            " [4 5 6 7]]\n",
            "--------------------\n",
            "[[ 8  9 10 11]\n",
            " [12 13 14 15]]\n"
          ]
        }
      ]
    },
    {
      "cell_type": "code",
      "source": [
        "a"
      ],
      "metadata": {
        "colab": {
          "base_uri": "https://localhost:8080/"
        },
        "id": "Ua_tR5EYHcqE",
        "outputId": "c49d268a-1745-4505-af4d-21b3a6884c9f"
      },
      "execution_count": 69,
      "outputs": [
        {
          "output_type": "execute_result",
          "data": {
            "text/plain": [
              "array([[ 0,  1,  2,  3],\n",
              "       [ 4,  5,  6,  7],\n",
              "       [ 8,  9, 10, 11],\n",
              "       [12, 13, 14, 15]])"
            ]
          },
          "metadata": {},
          "execution_count": 69
        }
      ]
    },
    {
      "cell_type": "code",
      "source": [
        "[x,y,z]=np.split(a,[1,3],axis=1)\n",
        "print(x)   #0 to 1(exclude)\n",
        "print('-'*20)\n",
        "print(y)   #1 to 3(exclude)\n",
        "print('-'*20)\n",
        "print(z)   #3 to end"
      ],
      "metadata": {
        "colab": {
          "base_uri": "https://localhost:8080/"
        },
        "id": "2KJvUg4mGqai",
        "outputId": "76d926c8-be20-4363-da75-3d7cc6a1cb2f"
      },
      "execution_count": 67,
      "outputs": [
        {
          "output_type": "stream",
          "name": "stdout",
          "text": [
            "[[ 0]\n",
            " [ 4]\n",
            " [ 8]\n",
            " [12]]\n",
            "--------------------\n",
            "[[ 1  2]\n",
            " [ 5  6]\n",
            " [ 9 10]\n",
            " [13 14]]\n",
            "--------------------\n",
            "[[ 3]\n",
            " [ 7]\n",
            " [11]\n",
            " [15]]\n"
          ]
        }
      ]
    },
    {
      "cell_type": "code",
      "source": [
        "[x,y,z]=np.split(a,[2,3],axis=0)\n",
        "print(x)\n",
        "print('-'*20)\n",
        "print(y)\n",
        "print('-'*20)\n",
        "print(z)"
      ],
      "metadata": {
        "colab": {
          "base_uri": "https://localhost:8080/"
        },
        "id": "wDYLuHA_HUeE",
        "outputId": "fe835d47-1a2f-4cf4-9502-42ea7a1d011e"
      },
      "execution_count": 68,
      "outputs": [
        {
          "output_type": "stream",
          "name": "stdout",
          "text": [
            "[[0 1 2 3]\n",
            " [4 5 6 7]]\n",
            "--------------------\n",
            "[[ 8  9 10 11]]\n",
            "--------------------\n",
            "[[12 13 14 15]]\n"
          ]
        }
      ]
    },
    {
      "cell_type": "markdown",
      "source": [
        "**View Vs Copies**"
      ],
      "metadata": {
        "id": "XvBTE-FMIJu9"
      }
    },
    {
      "cell_type": "code",
      "source": [
        "a=np.array([1,2,3,4])\n",
        "b=a"
      ],
      "metadata": {
        "id": "6gjaj_0CHigd"
      },
      "execution_count": 70,
      "outputs": []
    },
    {
      "cell_type": "code",
      "source": [
        "print(a)\n",
        "print(b)"
      ],
      "metadata": {
        "colab": {
          "base_uri": "https://localhost:8080/"
        },
        "id": "8ryTanB7ITNm",
        "outputId": "37efbe27-1d99-4fd7-b826-c4497b1755f0"
      },
      "execution_count": 71,
      "outputs": [
        {
          "output_type": "stream",
          "name": "stdout",
          "text": [
            "[1 2 3 4]\n",
            "[1 2 3 4]\n"
          ]
        }
      ]
    },
    {
      "cell_type": "code",
      "source": [
        "#We find that array a and b are change becouse that a view b\n",
        "a[2]=0\n",
        "print(a)\n",
        "print(b)"
      ],
      "metadata": {
        "colab": {
          "base_uri": "https://localhost:8080/"
        },
        "id": "tZOTCg-NIWjt",
        "outputId": "38e1165b-7c8e-4875-d7b9-b96d58f88053"
      },
      "execution_count": 73,
      "outputs": [
        {
          "output_type": "stream",
          "name": "stdout",
          "text": [
            "[1 2 0 4]\n",
            "[1 2 0 4]\n"
          ]
        }
      ]
    },
    {
      "cell_type": "code",
      "source": [
        "c=a[0:2]\n",
        "print(a)\n",
        "print(c)"
      ],
      "metadata": {
        "colab": {
          "base_uri": "https://localhost:8080/"
        },
        "id": "Z67lgUPcIrMW",
        "outputId": "bf1ca775-8301-488f-ae14-89c51df695d4"
      },
      "execution_count": 74,
      "outputs": [
        {
          "output_type": "stream",
          "name": "stdout",
          "text": [
            "[1 2 0 4]\n",
            "[1 2]\n"
          ]
        }
      ]
    },
    {
      "cell_type": "code",
      "source": [
        "a[0]=5\n",
        "print(a)\n",
        "print(c)"
      ],
      "metadata": {
        "colab": {
          "base_uri": "https://localhost:8080/"
        },
        "id": "C-fgodsBJa-L",
        "outputId": "9b26ee45-3ab0-4c8b-9842-bd9fd53e4168"
      },
      "execution_count": 75,
      "outputs": [
        {
          "output_type": "stream",
          "name": "stdout",
          "text": [
            "[5 2 0 4]\n",
            "[5 2]\n"
          ]
        }
      ]
    },
    {
      "cell_type": "code",
      "source": [
        "a=np.array([1,2,3,4])\n",
        "c=a.copy()\n",
        "print(a)\n",
        "print(c)"
      ],
      "metadata": {
        "colab": {
          "base_uri": "https://localhost:8080/"
        },
        "id": "Y0n6Ty8cJ9v6",
        "outputId": "ddef092a-6f1f-4010-e941-c19bb04a5a26"
      },
      "execution_count": 76,
      "outputs": [
        {
          "output_type": "stream",
          "name": "stdout",
          "text": [
            "[1 2 3 4]\n",
            "[1 2 3 4]\n"
          ]
        }
      ]
    },
    {
      "cell_type": "code",
      "source": [
        "a[3]=7\n",
        "print(a)\n",
        "print(c)"
      ],
      "metadata": {
        "colab": {
          "base_uri": "https://localhost:8080/"
        },
        "id": "gbe0lOtiKhKo",
        "outputId": "e2df538e-a283-4df4-b06a-a34d2ee11852"
      },
      "execution_count": 77,
      "outputs": [
        {
          "output_type": "stream",
          "name": "stdout",
          "text": [
            "[1 2 3 7]\n",
            "[1 2 3 4]\n"
          ]
        }
      ]
    },
    {
      "cell_type": "markdown",
      "source": [
        "# **Numpy_exercise**"
      ],
      "metadata": {
        "id": "caVBw2lpeQ9W"
      }
    },
    {
      "cell_type": "markdown",
      "source": [
        "**Q_1: create 2D-array that contain even numbers between 0-18...??**"
      ],
      "metadata": {
        "id": "XrTy0T1yeOZM"
      }
    },
    {
      "cell_type": "code",
      "source": [
        "arr=np.arange(0,18,2).reshape(3,3)\n",
        "arr"
      ],
      "metadata": {
        "colab": {
          "base_uri": "https://localhost:8080/"
        },
        "id": "xS9N5885dqYX",
        "outputId": "9c5a7456-5140-4c83-92cb-ae2648a7035d"
      },
      "execution_count": 50,
      "outputs": [
        {
          "output_type": "execute_result",
          "data": {
            "text/plain": [
              "array([[ 0,  2,  4],\n",
              "       [ 6,  8, 10],\n",
              "       [12, 14, 16]])"
            ]
          },
          "metadata": {},
          "execution_count": 50
        }
      ]
    },
    {
      "cell_type": "markdown",
      "source": [
        "**Q_2: Replace the negative values with 0 in random array that has value in range (-6,6)**"
      ],
      "metadata": {
        "id": "Sbp3MOAle2-Q"
      }
    },
    {
      "cell_type": "code",
      "source": [
        "arr=np.random.randint(-6,6,10)\n",
        "print(arr)\n",
        "arr[arr<0]=0\n",
        "print(\"After Mapping : \",arr)"
      ],
      "metadata": {
        "colab": {
          "base_uri": "https://localhost:8080/"
        },
        "id": "OU52gB_1ehRG",
        "outputId": "e072b94e-4cd3-4ba2-df8d-131918621279"
      },
      "execution_count": 51,
      "outputs": [
        {
          "output_type": "stream",
          "name": "stdout",
          "text": [
            "[-1  1 -5 -3 -1  1  0 -1 -2  0]\n",
            "After Mapping :  [0 1 0 0 0 1 0 0 0 0]\n"
          ]
        }
      ]
    },
    {
      "cell_type": "markdown",
      "source": [
        "**Q_3 : How to compute ((A+B)*(-A/2)) ? where A,B random array**"
      ],
      "metadata": {
        "id": "6LvY4nLAh_9g"
      }
    },
    {
      "cell_type": "code",
      "source": [
        "a=np.random.randint(0,10,(3,4))\n",
        "b=np.random.randint(0,10,(3,4))\n",
        "print(a)\n",
        "print(b)"
      ],
      "metadata": {
        "colab": {
          "base_uri": "https://localhost:8080/"
        },
        "id": "ZSZxtBaPe8N9",
        "outputId": "0789aea9-395c-4ffa-cf80-af5e3745391c"
      },
      "execution_count": 52,
      "outputs": [
        {
          "output_type": "stream",
          "name": "stdout",
          "text": [
            "[[5 4 8 9]\n",
            " [2 9 4 5]\n",
            " [2 7 6 9]]\n",
            "[[9 5 4 5]\n",
            " [9 0 2 5]\n",
            " [4 1 9 2]]\n"
          ]
        }
      ]
    },
    {
      "cell_type": "code",
      "source": [
        "print(((a+b)*(-a/2)))"
      ],
      "metadata": {
        "colab": {
          "base_uri": "https://localhost:8080/"
        },
        "id": "v2g8cwMaiSfW",
        "outputId": "cdcdc378-bcf7-459d-e408-4fe4fce7fefb"
      },
      "execution_count": 53,
      "outputs": [
        {
          "output_type": "stream",
          "name": "stdout",
          "text": [
            "[[-35.  -18.  -48.  -63. ]\n",
            " [-11.  -40.5 -12.  -25. ]\n",
            " [ -6.  -28.  -45.  -49.5]]\n"
          ]
        }
      ]
    },
    {
      "cell_type": "markdown",
      "source": [
        "**Q_4: How to concatenate two arrays horizontally..?**"
      ],
      "metadata": {
        "id": "u0jcwfHqifjS"
      }
    },
    {
      "cell_type": "code",
      "source": [
        "arr1=np.array([1,2,3,4,5])\n",
        "arr2=np.array([6,7,8,9,10])\n",
        "print(np.concatenate((arr1,arr2),axis=0))"
      ],
      "metadata": {
        "colab": {
          "base_uri": "https://localhost:8080/"
        },
        "id": "r2eTkipviXuQ",
        "outputId": "46d1083b-1c78-4866-c630-fa853f3a9f6d"
      },
      "execution_count": 54,
      "outputs": [
        {
          "output_type": "stream",
          "name": "stdout",
          "text": [
            "[ 1  2  3  4  5  6  7  8  9 10]\n"
          ]
        }
      ]
    },
    {
      "cell_type": "markdown",
      "source": [
        "**Q_5: Create a random vector of size 3x3 and sort values in Its columns**"
      ],
      "metadata": {
        "id": "MwHW8zxNjLUj"
      }
    },
    {
      "cell_type": "code",
      "source": [
        "arr=np.array([[6,9,3,8,5,1,7,4,2]]).reshape(3,3)\n",
        "print(arr)\n",
        "print(\"=\"*30)\n",
        "print(\"Sort by Columns : \")\n",
        "print(np.sort(arr,axis=0))\n",
        "print(\"=\"*30)\n",
        "print(\"Sort by Rows : \")\n",
        "print(np.sort(arr,axis=1))\n"
      ],
      "metadata": {
        "colab": {
          "base_uri": "https://localhost:8080/"
        },
        "id": "Rj19N8EeikVP",
        "outputId": "a1df3bdf-1eca-474a-852c-58a7cfd3ba5e"
      },
      "execution_count": 55,
      "outputs": [
        {
          "output_type": "stream",
          "name": "stdout",
          "text": [
            "[[6 9 3]\n",
            " [8 5 1]\n",
            " [7 4 2]]\n",
            "==============================\n",
            "Sort by Columns : \n",
            "[[6 4 1]\n",
            " [7 5 2]\n",
            " [8 9 3]]\n",
            "==============================\n",
            "Sort by Rows : \n",
            "[[3 6 9]\n",
            " [1 5 8]\n",
            " [2 4 7]]\n"
          ]
        }
      ]
    }
  ]
}