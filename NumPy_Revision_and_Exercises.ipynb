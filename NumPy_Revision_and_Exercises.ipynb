{
  "nbformat": 4,
  "nbformat_minor": 0,
  "metadata": {
    "colab": {
      "provenance": [],
      "authorship_tag": "ABX9TyMuJhCbIc3xLHQGG81R9VH9",
      "include_colab_link": true
    },
    "kernelspec": {
      "name": "python3",
      "display_name": "Python 3"
    },
    "language_info": {
      "name": "python"
    }
  },
  "cells": [
    {
      "cell_type": "markdown",
      "metadata": {
        "id": "view-in-github",
        "colab_type": "text"
      },
      "source": [
        "<a href=\"https://colab.research.google.com/github/norannali/Data-Science-ML-Exercises/blob/main/NumPy_Revision_and_Exercises.ipynb\" target=\"_parent\"><img src=\"https://colab.research.google.com/assets/colab-badge.svg\" alt=\"Open In Colab\"/></a>"
      ]
    },
    {
      "cell_type": "code",
      "execution_count": 1,
      "metadata": {
        "id": "B31rhc6dK75K"
      },
      "outputs": [],
      "source": [
        "import numpy as np"
      ]
    },
    {
      "cell_type": "code",
      "source": [
        "a=np.arange(15).reshape(3,5)"
      ],
      "metadata": {
        "id": "pZGsqxa1LDax"
      },
      "execution_count": 4,
      "outputs": []
    },
    {
      "cell_type": "code",
      "source": [
        "a"
      ],
      "metadata": {
        "colab": {
          "base_uri": "https://localhost:8080/"
        },
        "id": "uYuLxlXSNpEC",
        "outputId": "4cf8d25a-4904-40da-9a19-0835f89278a5"
      },
      "execution_count": 5,
      "outputs": [
        {
          "output_type": "execute_result",
          "data": {
            "text/plain": [
              "array([[ 0,  1,  2,  3,  4],\n",
              "       [ 5,  6,  7,  8,  9],\n",
              "       [10, 11, 12, 13, 14]])"
            ]
          },
          "metadata": {},
          "execution_count": 5
        }
      ]
    },
    {
      "cell_type": "code",
      "source": [
        "#The basics\n",
        "print(\"Array Shape : \",a.shape)\n",
        "print(\"the number of axes (dimensions) of the array : \",a.ndim)\n",
        "print(\"the total number of elements of the array : \",a.size)\n",
        "print(\"an object describing the type of the elements in the array : \",a.dtype)\n",
        "print(\"the size in bytes of each element of the array : \",a.itemsize)"
      ],
      "metadata": {
        "colab": {
          "base_uri": "https://localhost:8080/"
        },
        "id": "E0crCHjhNpuz",
        "outputId": "57c8056b-3bfb-4a49-d8cd-b10e79fb87d8"
      },
      "execution_count": 10,
      "outputs": [
        {
          "output_type": "stream",
          "name": "stdout",
          "text": [
            "Array Shape :  (3, 5)\n",
            "the number of axes (dimensions) of the array :  2\n",
            "the total number of elements of the array :  15\n",
            "an object describing the type of the elements in the array :  int64\n",
            "the size in bytes of each element of the array :  8\n"
          ]
        }
      ]
    },
    {
      "cell_type": "markdown",
      "source": [
        "# **Array creation**"
      ],
      "metadata": {
        "id": "gLv-Yx1pRbFJ"
      }
    },
    {
      "cell_type": "code",
      "source": [
        "b=np.array([6,7,8])\n",
        "b"
      ],
      "metadata": {
        "colab": {
          "base_uri": "https://localhost:8080/"
        },
        "id": "7mEgUaC6N-7U",
        "outputId": "e930be82-c997-430c-bdfa-dfee3dceb10a"
      },
      "execution_count": 11,
      "outputs": [
        {
          "output_type": "execute_result",
          "data": {
            "text/plain": [
              "array([6, 7, 8])"
            ]
          },
          "metadata": {},
          "execution_count": 11
        }
      ]
    },
    {
      "cell_type": "code",
      "source": [
        "c=np.array([(1.5,2,3),(4,5,6)])\n",
        "c"
      ],
      "metadata": {
        "colab": {
          "base_uri": "https://localhost:8080/"
        },
        "id": "z5y5rFhxRiDa",
        "outputId": "775be1ec-58a1-4aee-8ded-6a22fdbb7eac"
      },
      "execution_count": 12,
      "outputs": [
        {
          "output_type": "execute_result",
          "data": {
            "text/plain": [
              "array([[1.5, 2. , 3. ],\n",
              "       [4. , 5. , 6. ]])"
            ]
          },
          "metadata": {},
          "execution_count": 12
        }
      ]
    },
    {
      "cell_type": "code",
      "source": [
        "arr1=np.zeros((3,4))\n",
        "arr2=np.ones((1,3,4),dtype=np.int16)\n",
        "arr3=np.empty((2,3))\n",
        "print(arr1)\n",
        "print(\"=\"*50)\n",
        "print(arr2)\n",
        "print(\"=\"*50)\n",
        "print(arr3)"
      ],
      "metadata": {
        "colab": {
          "base_uri": "https://localhost:8080/"
        },
        "id": "KgDhWQ1IRskF",
        "outputId": "e4642d15-5dd5-4446-9b40-4c9d28af2ec8"
      },
      "execution_count": 15,
      "outputs": [
        {
          "output_type": "stream",
          "name": "stdout",
          "text": [
            "[[0. 0. 0. 0.]\n",
            " [0. 0. 0. 0.]\n",
            " [0. 0. 0. 0.]]\n",
            "==================================================\n",
            "[[[1 1 1 1]\n",
            "  [1 1 1 1]\n",
            "  [1 1 1 1]]]\n",
            "==================================================\n",
            "[[1.5 2.  3. ]\n",
            " [4.  5.  6. ]]\n"
          ]
        }
      ]
    },
    {
      "cell_type": "code",
      "source": [
        "arr4=np.arange(10,30,5)\n",
        "arr5=np.linspace(0,2,9)  #9 numbers from 0 to 2\n",
        "print(arr4)\n",
        "print(\"=\"*50)\n",
        "print(arr5)"
      ],
      "metadata": {
        "colab": {
          "base_uri": "https://localhost:8080/"
        },
        "id": "SbU87Z0JTCqZ",
        "outputId": "2ae1c1da-8864-4bb8-f43a-66296b90942a"
      },
      "execution_count": 18,
      "outputs": [
        {
          "output_type": "stream",
          "name": "stdout",
          "text": [
            "[10 15 20 25]\n",
            "==================================================\n",
            "[0.   0.25 0.5  0.75 1.   1.25 1.5  1.75 2.  ]\n"
          ]
        }
      ]
    },
    {
      "cell_type": "code",
      "source": [
        "a=np.array([[1,1],\n",
        "           [0,1]])\n",
        "b=np.array([[2, 0],\n",
        "            [3, 4]])\n",
        "#Operations\n",
        "print(a+b)\n",
        "print(\"=\"*50)\n",
        "print(a-b)\n",
        "print(\"=\"*50)\n",
        "print(a*b)\n",
        "print(\"=\"*50)\n",
        "print(f\"Matrix Product by  arr1@arr2  :\")\n",
        "print(a@b)\n",
        "print(\"=\"*50)\n",
        "print(f\"Matrix Product by  arr1.dot(arr2)  :\")\n",
        "print(a.dot(b))"
      ],
      "metadata": {
        "colab": {
          "base_uri": "https://localhost:8080/"
        },
        "id": "Uipw4mWrThks",
        "outputId": "3b90b71c-72df-479b-9b5d-80eeafc2c283"
      },
      "execution_count": 24,
      "outputs": [
        {
          "output_type": "stream",
          "name": "stdout",
          "text": [
            "[[3 1]\n",
            " [3 5]]\n",
            "==================================================\n",
            "[[-1  1]\n",
            " [-3 -3]]\n",
            "==================================================\n",
            "[[2 0]\n",
            " [0 4]]\n",
            "==================================================\n",
            "Matrix Product by  arr1@arr2  :\n",
            "[[5 4]\n",
            " [3 4]]\n",
            "==================================================\n",
            "Matrix Product by  arr1.dot(arr2)  :\n",
            "[[5 4]\n",
            " [3 4]]\n"
          ]
        }
      ]
    },
    {
      "cell_type": "markdown",
      "source": [
        "# **Indexing**\n",
        "Access Array Elements Array indexing is the same as accessing an array element.\n",
        "\n",
        "You can access an array element by referring to its index number."
      ],
      "metadata": {
        "id": "jjH9UGBGZYWl"
      }
    },
    {
      "cell_type": "code",
      "source": [
        "arr = np.array([1, 2, 3, 4])\n",
        "print(arr[0])"
      ],
      "metadata": {
        "colab": {
          "base_uri": "https://localhost:8080/"
        },
        "id": "0wy2y5DmVy7N",
        "outputId": "4cc7f3ec-2527-4a02-8732-a82a01f3c60d"
      },
      "execution_count": 25,
      "outputs": [
        {
          "output_type": "stream",
          "name": "stdout",
          "text": [
            "1\n"
          ]
        }
      ]
    },
    {
      "cell_type": "code",
      "source": [
        "print(arr[2] + arr[3])"
      ],
      "metadata": {
        "colab": {
          "base_uri": "https://localhost:8080/"
        },
        "id": "jFiF73LRZiHy",
        "outputId": "2b1e9def-9377-41c1-fed8-43673eae5f15"
      },
      "execution_count": 26,
      "outputs": [
        {
          "output_type": "stream",
          "name": "stdout",
          "text": [
            "7\n"
          ]
        }
      ]
    },
    {
      "cell_type": "code",
      "source": [
        "# Access 2-D Arrays\n",
        "arr = np.array([[1,2,3,4,5], [6,7,8,9,10]])\n",
        "print('2nd element on 1st row: ', arr[0, 1])\n",
        "print('5th element on 2nd row: ', arr[1, 4])\n"
      ],
      "metadata": {
        "colab": {
          "base_uri": "https://localhost:8080/"
        },
        "id": "OSQ8jbhPZkhM",
        "outputId": "8f6dc4fa-3be4-4064-bdff-75909a6863f3"
      },
      "execution_count": 28,
      "outputs": [
        {
          "output_type": "stream",
          "name": "stdout",
          "text": [
            "2nd element on 1st row:  2\n",
            "5th element on 2nd row:  10\n"
          ]
        }
      ]
    },
    {
      "cell_type": "code",
      "source": [
        "# Access 3-D Arrays\n",
        "arr = np.array([[[1, 2, 3], [4, 5, 6]],\n",
        "               [[7, 8, 9], [10, 11, 12]]])\n",
        "print(arr)\n",
        "print(arr[0, 1, 1])\n"
      ],
      "metadata": {
        "colab": {
          "base_uri": "https://localhost:8080/"
        },
        "id": "z9mwIUfMZsaH",
        "outputId": "d0b3c8e2-abea-4bcf-cfdc-6a4176d20cb6"
      },
      "execution_count": 33,
      "outputs": [
        {
          "output_type": "stream",
          "name": "stdout",
          "text": [
            "[[[ 1  2  3]\n",
            "  [ 4  5  6]]\n",
            "\n",
            " [[ 7  8  9]\n",
            "  [10 11 12]]]\n",
            "5\n"
          ]
        }
      ]
    },
    {
      "cell_type": "markdown",
      "source": [
        "# **NumPy Array Slicing**\n",
        "We pass slice instead of index like this: [start:end].\n",
        "\n",
        "We can also define the step, like this: [start:end:step]."
      ],
      "metadata": {
        "id": "Rjk6FKKvbOz5"
      }
    },
    {
      "cell_type": "code",
      "source": [
        "arr = np.array([1, 2, 3, 4, 5, 6, 7])\n",
        "\n",
        "print(arr[1:5])\n",
        "print(arr[4:])\n",
        "print(arr[:4])\n",
        "print(arr[-3:-1])\n",
        "print(arr[1:5:2])\n",
        "print(arr[::2])"
      ],
      "metadata": {
        "colab": {
          "base_uri": "https://localhost:8080/"
        },
        "id": "pSIhfyA3Z665",
        "outputId": "44e851f6-608c-4da4-c9a7-9954f22ee17c"
      },
      "execution_count": 35,
      "outputs": [
        {
          "output_type": "stream",
          "name": "stdout",
          "text": [
            "[2 3 4 5]\n",
            "[5 6 7]\n",
            "[1 2 3 4]\n",
            "[5 6]\n",
            "[2 4]\n",
            "[1 3 5 7]\n"
          ]
        }
      ]
    },
    {
      "cell_type": "code",
      "source": [
        "#From both elements, slice index 1 to index 4 (not included), this will return a 2-D array:\n",
        "arr = np.array([[1, 2, 3, 4, 5],\n",
        "                [6, 7, 8, 9, 10]])\n",
        "\n",
        "print(arr[0:2, 1:4]) # 0 : 2 > arrays\n",
        "print('-'*50)\n",
        "print(arr[0:1, 1:5])\n",
        "print(\"=\"*50)\n",
        "arr2=np.array([[1,2,3,4,5],\n",
        "              [10,20,30,40,50],\n",
        "              [100,200,300,400,500]])\n",
        "print(arr2[0:2, 1:4])\n",
        "print('-'*50)\n",
        "print(arr2[1:3,2:5])"
      ],
      "metadata": {
        "colab": {
          "base_uri": "https://localhost:8080/"
        },
        "id": "ZUSZ8i76bwSh",
        "outputId": "ec9540ad-dced-4ca8-b19c-ded4c6cfbadb"
      },
      "execution_count": 43,
      "outputs": [
        {
          "output_type": "stream",
          "name": "stdout",
          "text": [
            "[[2 3 4]\n",
            " [7 8 9]]\n",
            "--------------------------------------------------\n",
            "[[2 3 4 5]]\n",
            "==================================================\n",
            "[[ 2  3  4]\n",
            " [20 30 40]]\n",
            "--------------------------------------------------\n",
            "[[ 30  40  50]\n",
            " [300 400 500]]\n"
          ]
        }
      ]
    },
    {
      "cell_type": "code",
      "source": [
        "## Joining Array\n",
        "arr1 = np.array([1, 2, 3])\n",
        "\n",
        "arr2 = np.array([4, 5, 6])\n",
        "\n",
        "arr = np.concatenate((arr1, arr2))\n",
        "\n",
        "print(arr)"
      ],
      "metadata": {
        "colab": {
          "base_uri": "https://localhost:8080/"
        },
        "id": "U8WbsPYDcQzd",
        "outputId": "8d227590-bb4b-4c93-a8e4-50d487c5abf0"
      },
      "execution_count": 44,
      "outputs": [
        {
          "output_type": "stream",
          "name": "stdout",
          "text": [
            "[1 2 3 4 5 6]\n"
          ]
        }
      ]
    },
    {
      "cell_type": "markdown",
      "source": [
        "# **Numpy_exercise**"
      ],
      "metadata": {
        "id": "caVBw2lpeQ9W"
      }
    },
    {
      "cell_type": "markdown",
      "source": [
        "**Q_1: create 2D-array that contain even numbers between 0-18...??**"
      ],
      "metadata": {
        "id": "XrTy0T1yeOZM"
      }
    },
    {
      "cell_type": "code",
      "source": [
        "arr=np.arange(0,18,2).reshape(3,3)\n",
        "arr"
      ],
      "metadata": {
        "colab": {
          "base_uri": "https://localhost:8080/"
        },
        "id": "xS9N5885dqYX",
        "outputId": "6dc4128a-dfd3-4f01-f33b-a468a0799d21"
      },
      "execution_count": 47,
      "outputs": [
        {
          "output_type": "execute_result",
          "data": {
            "text/plain": [
              "array([[ 0,  2,  4],\n",
              "       [ 6,  8, 10],\n",
              "       [12, 14, 16]])"
            ]
          },
          "metadata": {},
          "execution_count": 47
        }
      ]
    },
    {
      "cell_type": "markdown",
      "source": [
        "**Q_2: Replace the negative values with 0 in random array that has value in range (-6,6)**"
      ],
      "metadata": {
        "id": "Sbp3MOAle2-Q"
      }
    },
    {
      "cell_type": "code",
      "source": [
        "arr=np.random.randint(-6,6,10)\n",
        "print(arr)\n",
        "arr[arr<0]=0\n",
        "print(\"After Mapping : \",arr)"
      ],
      "metadata": {
        "colab": {
          "base_uri": "https://localhost:8080/"
        },
        "id": "OU52gB_1ehRG",
        "outputId": "1e5d8128-c8d9-44ad-c477-2094791c80e5"
      },
      "execution_count": 49,
      "outputs": [
        {
          "output_type": "stream",
          "name": "stdout",
          "text": [
            "[ 3  2 -2  5  1 -2 -5  2 -3  3]\n",
            "After Mapping :  [3 2 0 5 1 0 0 2 0 3]\n"
          ]
        }
      ]
    },
    {
      "cell_type": "markdown",
      "source": [
        "**Q_3 : How to compute ((A+B)*(-A/2)) ? where A,B random array**"
      ],
      "metadata": {
        "id": "6LvY4nLAh_9g"
      }
    },
    {
      "cell_type": "code",
      "source": [
        "a=np.random.randint(0,10,(3,4))\n",
        "b=np.random.randint(0,10,(3,4))\n",
        "print(a)\n",
        "print(b)"
      ],
      "metadata": {
        "colab": {
          "base_uri": "https://localhost:8080/"
        },
        "id": "ZSZxtBaPe8N9",
        "outputId": "374f507f-f22b-4237-9621-6803e4e52da1"
      },
      "execution_count": 50,
      "outputs": [
        {
          "output_type": "stream",
          "name": "stdout",
          "text": [
            "[[9 3 8 6]\n",
            " [9 8 5 7]\n",
            " [0 2 3 1]]\n",
            "[[8 4 8 8]\n",
            " [7 0 0 6]\n",
            " [4 5 5 1]]\n"
          ]
        }
      ]
    },
    {
      "cell_type": "code",
      "source": [
        "print(((a+b)*(-a/2)))"
      ],
      "metadata": {
        "colab": {
          "base_uri": "https://localhost:8080/"
        },
        "id": "v2g8cwMaiSfW",
        "outputId": "9eef8627-f8b3-4184-e46c-98c5b62bd458"
      },
      "execution_count": 52,
      "outputs": [
        {
          "output_type": "stream",
          "name": "stdout",
          "text": [
            "[[-76.5 -10.5 -64.  -42. ]\n",
            " [-72.  -32.  -12.5 -45.5]\n",
            " [  0.   -7.  -12.   -1. ]]\n"
          ]
        }
      ]
    },
    {
      "cell_type": "markdown",
      "source": [
        "**Q_4: How to concatenate two arrays horizontally..?**"
      ],
      "metadata": {
        "id": "u0jcwfHqifjS"
      }
    },
    {
      "cell_type": "code",
      "source": [
        "arr1=np.array([1,2,3,4,5])\n",
        "arr2=np.array([6,7,8,9,10])\n",
        "print(np.concatenate((arr1,arr2),axis=0))"
      ],
      "metadata": {
        "colab": {
          "base_uri": "https://localhost:8080/"
        },
        "id": "r2eTkipviXuQ",
        "outputId": "4b6d3858-3d69-4b25-d208-0d3d5de8c49f"
      },
      "execution_count": 57,
      "outputs": [
        {
          "output_type": "stream",
          "name": "stdout",
          "text": [
            "[ 1  2  3  4  5  6  7  8  9 10]\n"
          ]
        }
      ]
    },
    {
      "cell_type": "markdown",
      "source": [
        "**Q_5: Create a random vector of size 3x3 and sort values in Its columns**"
      ],
      "metadata": {
        "id": "MwHW8zxNjLUj"
      }
    },
    {
      "cell_type": "code",
      "source": [
        "arr=np.array([[6,9,3,8,5,1,7,4,2]]).reshape(3,3)\n",
        "print(arr)\n",
        "print(\"=\"*30)\n",
        "print(\"Sort by Columns : \")\n",
        "print(np.sort(arr,axis=0))\n",
        "print(\"=\"*30)\n",
        "print(\"Sort by Rows : \")\n",
        "print(np.sort(arr,axis=1))\n"
      ],
      "metadata": {
        "colab": {
          "base_uri": "https://localhost:8080/"
        },
        "id": "Rj19N8EeikVP",
        "outputId": "220f19e6-a3aa-40f6-a99d-4094728eae4e"
      },
      "execution_count": 64,
      "outputs": [
        {
          "output_type": "stream",
          "name": "stdout",
          "text": [
            "[[6 9 3]\n",
            " [8 5 1]\n",
            " [7 4 2]]\n",
            "==============================\n",
            "Sort by Columns : \n",
            "[[6 4 1]\n",
            " [7 5 2]\n",
            " [8 9 3]]\n",
            "==============================\n",
            "Sort by Rows : \n",
            "[[3 6 9]\n",
            " [1 5 8]\n",
            " [2 4 7]]\n"
          ]
        }
      ]
    },
    {
      "cell_type": "code",
      "source": [],
      "metadata": {
        "id": "QmDUfTWOjfXD"
      },
      "execution_count": null,
      "outputs": []
    }
  ]
}